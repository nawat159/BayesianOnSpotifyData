{
 "cells": [
  {
   "cell_type": "code",
   "execution_count": null,
   "metadata": {},
   "outputs": [],
   "source": [
    "import arviz as az\n",
    "import matplotlib.pyplot as plt\n",
    "import numpy as np\n",
    "import pandas as pd\n",
    "import pymc3 as pm\n",
    "import theano.tensor as tt\n",
    "import warnings\n",
    "from scipy import stats\n",
    "from IPython.core.pylabtools import figsize\n",
    "from sklearn.model_selection import train_test_split\n",
    "import seaborn as sns\n",
    "from sklearn.metrics import (roc_curve, roc_auc_score, confusion_matrix, accuracy_score, f1_score, \n",
    "                             precision_recall_curve)"
   ]
  },
  {
   "cell_type": "code",
   "execution_count": null,
   "metadata": {},
   "outputs": [],
   "source": [
    "%config InlineBackend.figure_format = 'retina'\n",
    "az.style.use(\"arviz-darkgrid\")"
   ]
  },
  {
   "cell_type": "code",
   "execution_count": null,
   "metadata": {},
   "outputs": [],
   "source": [
    "def preprocessing_data(fileName):\n",
    "    df = pd.read_csv(fileName)\n",
    "    genre_list = pd.factorize(df['genre'])[1].tolist()\n",
    "    genre_num = len(genre_list)\n",
    "    for genre in genre_list:\n",
    "        df[f'genre_{genre}'] = np.zeros(df.shape[0])\n",
    "        df.loc[df['genre'] == genre, f'genre_{genre}'] = 1\n",
    "    df.head()\n",
    "\n",
    "    return df\n",
    "\n",
    "df = preprocessing_data(\"final_data.csv\")\n",
    "df, df2 = train_test_split(df, test_size=0.5, random_state=42)\n",
    "genre_list = pd.factorize(df['genre'])[1].tolist()\n",
    "genre_num = len(genre_list)\n",
    "acoustic_feature_list = ['dance', 'energy', 'speechiness', 'valence', 'tempo']\n",
    "p_num = len(acoustic_feature_list)\n"
   ]
  },
  {
   "cell_type": "code",
   "execution_count": null,
   "metadata": {},
   "outputs": [],
   "source": [
    "df.describe()"
   ]
  },
  {
   "cell_type": "code",
   "execution_count": null,
   "metadata": {},
   "outputs": [],
   "source": [
    "acoustic_feature_list"
   ]
  },
  {
   "cell_type": "code",
   "execution_count": null,
   "metadata": {},
   "outputs": [],
   "source": [
    "genre_list"
   ]
  },
  {
   "cell_type": "markdown",
   "metadata": {},
   "source": [
    "# Bayesian Logistic Regression + Linear Regression"
   ]
  },
  {
   "cell_type": "code",
   "execution_count": null,
   "metadata": {
    "scrolled": true
   },
   "outputs": [],
   "source": [
    "# Logistic Regression Part\n",
    "\n",
    "## hyperprior\n",
    "mu_theta = 0\n",
    "sigma_theta = 10\n",
    "mu_beta = 1000\n",
    "sigma_beta = 300\n",
    "sigma_sigma = 1e5\n",
    "\n",
    "theta_genre_dict = dict()\n",
    "acoustic_feature_data = dict()\n",
    "pz_logist_dict = dict()\n",
    "logist_genre_dict = dict()\n",
    "\n",
    "genre_idxs, genres = pd.factorize(df['genre'])\n",
    "\n",
    "coords = {\"genre\" : genre_list, \n",
    "          \"acoustic_feature\" : [\"intercept\"]+acoustic_feature_list, \n",
    "          \"obs_id\": np.arange(df.shape[0])\n",
    "}\n",
    "with pm.Model(coords=coords) as main_model:\n",
    "\n",
    "    genre_idx = pm.Data(\"genre_idx\", genre_idxs, dims=\"obs_id\")\n",
    "\n",
    "    for i in range(p_num):\n",
    "            acoustic_feature_data[i] = pm.Data(acoustic_feature_list[i], df[acoustic_feature_list[i]].values, dims=\"obs_id\")\n",
    "\n",
    "    #priors on theta\n",
    "    theta_genre = pm.Normal('theta_genre', mu=mu_theta, sigma=sigma_theta, dims=(\"genre\", \"acoustic_feature\"))\n",
    "    for i in range(len(genre_list)):\n",
    "        theta_genre_dict[i] = pm.Deterministic(f'theta_{genre_list[i]}', theta_genre[i,:])\n",
    "    \n",
    "\n",
    "    # find probability being each genre from logistic regression\n",
    "    #fit the data \n",
    "    for g_idx, genre in enumerate(genre_list):\n",
    "        logist_temp = theta_genre[g_idx, 0]\n",
    "        for i in range(p_num):\n",
    "            logist_temp = logist_temp + theta_genre[g_idx, i+1]*acoustic_feature_data[i]\n",
    "        \n",
    "        pz_logist_dict[genre] = pm.Deterministic(f'pz_genre_{genre}', logist_temp, dims=\"obs_id\")\n",
    "        logist_genre_dict[genre] = pm.Bernoulli(f'logist_genre_{genre}', p=pm.math.sigmoid(logist_temp), observed=df[f'genre_{genre}'], dims=\"obs_id\")\n",
    "\n",
    "with main_model:\n",
    "    trace=pm.sample(5000, tune=2000, return_inferencedata=True, cores=4)\n",
    "\n",
    "with main_model:\n",
    "    genre_pred = pm.sample_posterior_predictive(\n",
    "        trace.posterior\n",
    "    )\n",
    "    az.from_pymc3_predictions(\n",
    "        genre_pred, idata_orig=trace, inplace=True\n",
    "    )\n",
    "with main_model:\n",
    "    ppc = pm.sample_posterior_predictive(\n",
    "        trace, var_names=[f'pz_genre_{genre}' for genre in genre_list] + [f'theta_{genre}' for genre in genre_list]\n",
    "    )"
   ]
  },
  {
   "cell_type": "code",
   "execution_count": null,
   "metadata": {},
   "outputs": [],
   "source": [
    "theta_list = [f'theta_{genre}' for genre in genre_list]\n",
    "az.plot_trace(trace, var_names=theta_list)"
   ]
  },
  {
   "cell_type": "code",
   "execution_count": null,
   "metadata": {},
   "outputs": [],
   "source": [
    "# Linear Regression Part\n",
    "\n",
    "# save mean and sd of theta from previous part\n",
    "mean_theta_post = dict()\n",
    "sd_theta_post = dict()\n",
    "for genre in genre_list:\n",
    "    mean_theta_post[genre] = [np.mean(ppc[f'theta_{genre}'][:,x]) for x in range(1+p_num)]\n",
    "    sd_theta_post[genre] = [np.std(ppc[f'theta_{genre}'][:,x]) for x in range(1+p_num)]\n",
    "post_theta_dict = dict()\n",
    "for g_idx, _ in enumerate(genre_list):\n",
    "    post_theta_dict[g_idx] = dict()\n",
    "\n",
    "pz_genre = dict()\n",
    "beta_genre_dict = dict()\n",
    "\n",
    "srng = tt.random.utils.RandomStream(seed=234)\n",
    "\n",
    "coords = {\"genre\" : genre_list, \n",
    "          \"acoustic_feature\" : [\"intercept\"]+acoustic_feature_list, \n",
    "          \"obs_id\": np.arange(df2.shape[0])\n",
    "}\n",
    "with pm.Model(coords=coords) as main_model2:\n",
    "    \n",
    "    for i in range(p_num):\n",
    "            acoustic_feature_data[i] = pm.Data(acoustic_feature_list[i], df2[acoustic_feature_list[i]].values, dims=\"obs_id\")\n",
    "\n",
    "    # use the parameter for setting the probability distribution of theta of each genre:\n",
    "    for g_idx, genre in enumerate(genre_list):\n",
    "        for i in range(1+p_num):\n",
    "            post_theta_dict[g_idx][i] = pm.Deterministic(f'theta_genre_{genre}_{i}',srng.normal(mean_theta_post[genre][i], sd_theta_post[genre][i]))\n",
    "\n",
    "    # find probability being each genre from logistic regression\n",
    "    for g_idx, genre in enumerate(genre_list):\n",
    "        logist_temp = post_theta_dict[g_idx][0]\n",
    "        for i in range(p_num):\n",
    "            logist_temp = logist_temp + post_theta_dict[g_idx][i+1]*acoustic_feature_data[i]\n",
    "        pz_genre[g_idx] = pm.math.sigmoid(logist_temp)\n",
    "\n",
    "    # select genre having the highest probablity\n",
    "    pz_genre_stack = tt.stack([pz_genre[g_idx] for g_idx,_ in enumerate(genre_list)], axis=1)\n",
    "    selected_genre = tt.argmax(pz_genre_stack, axis=1)\n",
    "    saved_genre = pm.Deterministic('saved_genre', selected_genre)\n",
    "    \n",
    "    selected_genre_idx = selected_genre.eval()\n",
    "    \n",
    "    #priors on beta, sigma\n",
    "    beta_genre = pm.Normal('beta_genre', mu=mu_beta, sigma=sigma_beta, dims=(\"genre\", \"acoustic_feature\"))\n",
    "    sigma = pm.HalfNormal('sigma', sigma=sigma_sigma)\n",
    "    for i in range(len(genre_list)):\n",
    "        beta_genre_dict[i] = pm.Deterministic(f'beta_{genre_list[i]}', beta_genre[i,:])\n",
    "    \n",
    "    # find number of views from linear regression\n",
    "    y_est = beta_genre[selected_genre_idx, 0]\n",
    "    for i in range(p_num):\n",
    "        y_est = y_est + beta_genre[selected_genre_idx, i+1]*acoustic_feature_data[i]"
   ]
  },
  {
   "cell_type": "code",
   "execution_count": null,
   "metadata": {},
   "outputs": [],
   "source": [
    "with main_model2:\n",
    "    #fit the data of the number of views\n",
    "    y = pm.Normal('popularity', mu=y_est, sigma=sigma, observed=df2['popularity'], dims=\"obs_id\")\n",
    "    \n",
    "    trace2=pm.sample(5000, tune=2000, target_accept=0.95, return_inferencedata=True, cores=2)\n",
    "with main_model2:\n",
    "    y_pred = pm.sample_posterior_predictive(\n",
    "        trace2.posterior\n",
    "    )\n",
    "    az.from_pymc3_predictions(\n",
    "        y_pred, idata_orig=trace2, inplace=True\n",
    "    )\n",
    "with main_model2:\n",
    "    ppc2 = pm.sample_posterior_predictive(\n",
    "        trace2, var_names=[f'theta_genre_{genre}_{i}' for genre in genre_list for i in range(1+p_num)]+['saved_genre']\n",
    "    )"
   ]
  },
  {
   "cell_type": "code",
   "execution_count": null,
   "metadata": {},
   "outputs": [],
   "source": [
    "# posterior distribution of beta\n",
    "beta_list = [f'beta_{genre}' for genre in genre_list]\n",
    "az.plot_trace(trace2, var_names=beta_list, combined=True)"
   ]
  },
  {
   "cell_type": "code",
   "execution_count": null,
   "metadata": {},
   "outputs": [],
   "source": [
    "# predictive posterior distribtuion\n",
    "ax = sns.distplot(y_pred['popularity'].flatten())\n",
    "ax.set(xlabel='Y|X', ylabel='Probability')\n",
    "plt.show()"
   ]
  }
 ],
 "metadata": {
  "kernelspec": {
   "display_name": "Python 3 (ipykernel)",
   "language": "python",
   "name": "python3"
  },
  "language_info": {
   "codemirror_mode": {
    "name": "ipython",
    "version": 3
   },
   "file_extension": ".py",
   "mimetype": "text/x-python",
   "name": "python",
   "nbconvert_exporter": "python",
   "pygments_lexer": "ipython3",
   "version": "3.9.7"
  },
  "vscode": {
   "interpreter": {
    "hash": "31f2aee4e71d21fbe5cf8b01ff0e069b9275f58929596ceb00d14d90e3e16cd6"
   }
  }
 },
 "nbformat": 4,
 "nbformat_minor": 2
}
