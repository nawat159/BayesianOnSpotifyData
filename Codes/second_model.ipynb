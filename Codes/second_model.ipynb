{
 "cells": [
  {
   "cell_type": "code",
   "execution_count": null,
   "metadata": {},
   "outputs": [],
   "source": [
    "import arviz as az\n",
    "import matplotlib.pyplot as plt\n",
    "import numpy as np\n",
    "import pandas as pd\n",
    "import pymc3 as pm\n",
    "import theano.tensor as tt\n",
    "import warnings\n",
    "from IPython.core.pylabtools import figsize\n",
    "import seaborn as sns\n",
    "from sklearn.metrics import (roc_curve, roc_auc_score, confusion_matrix, accuracy_score, f1_score, \n",
    "                             precision_recall_curve)"
   ]
  },
  {
   "cell_type": "code",
   "execution_count": null,
   "metadata": {},
   "outputs": [],
   "source": [
    "%config InlineBackend.figure_format = 'retina'\n",
    "az.style.use(\"arviz-darkgrid\")"
   ]
  },
  {
   "cell_type": "code",
   "execution_count": null,
   "metadata": {},
   "outputs": [],
   "source": [
    "def preprocessing_data(fileName):\n",
    "    df = pd.read_csv(fileName)\n",
    "    genre_list = pd.factorize(df['genre'])[1].tolist()\n",
    "    genre_num = len(genre_list)\n",
    "    for genre in genre_list:\n",
    "        df[f'genre_{genre}'] = np.zeros(df.shape[0])\n",
    "        df.loc[df['genre'] == genre, f'genre_{genre}'] = 1\n",
    "    df.head()\n",
    "\n",
    "    return df\n",
    "\n",
    "df = preprocessing_data(\"final_data.csv\")\n",
    "genre_list = pd.factorize(df['genre'])[1].tolist()\n",
    "genre_num = len(genre_list)\n",
    "acoustic_feature_list = ['dance', 'energy', 'speechiness', 'valence', 'tempo']\n",
    "p_num = len(acoustic_feature_list)"
   ]
  },
  {
   "cell_type": "code",
   "execution_count": null,
   "metadata": {},
   "outputs": [],
   "source": [
    "df.head()"
   ]
  },
  {
   "cell_type": "code",
   "execution_count": null,
   "metadata": {},
   "outputs": [],
   "source": [
    "acoustic_feature_list"
   ]
  },
  {
   "cell_type": "code",
   "execution_count": null,
   "metadata": {},
   "outputs": [],
   "source": [
    "genre_list"
   ]
  },
  {
   "cell_type": "markdown",
   "metadata": {},
   "source": [
    "# Bayesian Linear Regression Treated Genre as Provided Data"
   ]
  },
  {
   "cell_type": "code",
   "execution_count": null,
   "metadata": {},
   "outputs": [],
   "source": [
    "## hyperprior\n",
    "mu_beta = 1000\n",
    "sigma_beta = 300\n",
    "sigma_sigma = 1e5\n",
    "\n",
    "beta_genre_dict = dict()\n",
    "acoustic_feature_data = dict()\n",
    "\n",
    "genre_idxs, genres = pd.factorize(df['genre'])\n",
    "\n",
    "coords = {\"genre\" : genre_list, \n",
    "          \"acoustic_feature\" : [\"intercept\"]+acoustic_feature_list, \n",
    "          \"obs_id\": np.arange(df.shape[0])\n",
    "}\n",
    "with pm.Model(coords=coords) as second_model:\n",
    "\n",
    "    genre_idx = pm.Data(\"genre_idx\", genre_idxs, dims=\"obs_id\")\n",
    "    \n",
    "    for i in range(p_num):\n",
    "            acoustic_feature_data[i] = pm.Data(acoustic_feature_list[i], df[acoustic_feature_list[i]].values, dims=\"obs_id\")\n",
    "\n",
    "    #priors on beta, sigma\n",
    "    beta_genre = pm.Normal('beta_genre', mu=mu_beta, sigma=sigma_beta, dims=(\"genre\", \"acoustic_feature\"))\n",
    "    sigma = pm.HalfNormal('sigma', sigma=sigma_sigma)\n",
    "    for i in range(len(genre_list)):\n",
    "        beta_genre_dict[i] = pm.Deterministic(f'beta_{genre_list[i]}', beta_genre[i,:])\n",
    "    \n",
    "    # find number of views for each genre from linear regression\n",
    "    y_est = beta_genre[genre_idx, 0]\n",
    "    for i in range(p_num):\n",
    "        y_est = y_est + beta_genre[genre_idx, i+1]*acoustic_feature_data[i]\n",
    "    y_est = pm.Deterministic(f'y_est', y_est)\n",
    "\n",
    "with second_model:\n",
    "    #fit the data \n",
    "    y = pm.Normal('popularity', mu=y_est, sigma=sigma, observed=df['popularity'], dims=\"obs_id\")\n",
    "    start=pm.find_MAP()\n",
    "    step=pm.Metropolis()\n",
    "    \n",
    "    #samples from posterior distribution \n",
    "    trace=pm.sample(10000, tune=5000, target_accept=0.80, return_inferencedata=True)\n",
    "\n",
    "prediction_coords = {\"obs_id\": df[\"genre\"]}\n",
    "with second_model:\n",
    "    y_pred = pm.sample_posterior_predictive(\n",
    "        trace.posterior\n",
    "    )\n",
    "    az.from_pymc3_predictions(\n",
    "        y_pred, idata_orig=trace, inplace=True, coords=prediction_coords\n",
    "    )"
   ]
  },
  {
   "cell_type": "code",
   "execution_count": null,
   "metadata": {},
   "outputs": [],
   "source": [
    "# posterior distribution of beta given genre data\n",
    "beta_list = [f'beta_{genre}' for genre in genre_list]\n",
    "az.plot_trace(trace, var_names=beta_list, combined=True)"
   ]
  },
  {
   "cell_type": "code",
   "execution_count": null,
   "metadata": {},
   "outputs": [],
   "source": [
    "# predictive posterior distribtuion\n",
    "az.plot_posterior(trace, group=\"predictions\")"
   ]
  }
 ],
 "metadata": {
  "kernelspec": {
   "display_name": "Python 3.9.6 64-bit",
   "language": "python",
   "name": "python3"
  },
  "language_info": {
   "codemirror_mode": {
    "name": "ipython",
    "version": 3
   },
   "file_extension": ".py",
   "mimetype": "text/x-python",
   "name": "python",
   "nbconvert_exporter": "python",
   "pygments_lexer": "ipython3",
   "version": "3.9.6"
  },
  "orig_nbformat": 4,
  "vscode": {
   "interpreter": {
    "hash": "31f2aee4e71d21fbe5cf8b01ff0e069b9275f58929596ceb00d14d90e3e16cd6"
   }
  }
 },
 "nbformat": 4,
 "nbformat_minor": 2
}
